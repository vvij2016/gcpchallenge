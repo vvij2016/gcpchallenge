{
 "cells": [
  {
   "cell_type": "code",
   "execution_count": 9,
   "metadata": {},
   "outputs": [],
   "source": [
    "import pandas as pd\n",
    "import numpy as np"
   ]
  },
  {
   "cell_type": "code",
   "execution_count": 10,
   "metadata": {},
   "outputs": [
    {
     "name": "stdout",
     "output_type": "stream",
     "text": [
      "Total number of records: 25500\n"
     ]
    }
   ],
   "source": [
    "# Load data from csv file into a pandas data frame\n",
    "url = \"https://gist.githubusercontent.com/bobbae/b4eec5b5cb0263e7e3e63a6806d045f2/raw/279b794a834a62dc108fc843a72c94c49361b501/data.csv\"\n",
    "df = pd.read_csv(url)\n",
    "df.columns = [\"year\", \"rank\", \"company\", \"revenue\", \"profit\"]\n",
    "print(\"Total number of records: {}\".format(df.shape[0]))"
   ]
  },
  {
   "cell_type": "code",
   "execution_count": 11,
   "metadata": {},
   "outputs": [
    {
     "name": "stdout",
     "output_type": "stream",
     "text": [
      "Total number of records after filtering non-numeric profit: 25131\n"
     ]
    }
   ],
   "source": [
    "# convert profit columns to numeric and filter nas\n",
    "df.profit = df['profit'].apply(pd.to_numeric, errors='coerce')\n",
    "df = df[~df['profit'].isna()]\n",
    "print(\"Total number of records after filtering non-numeric profit: {}\".format(df.shape[0]))"
   ]
  },
  {
   "cell_type": "code",
   "execution_count": 12,
   "metadata": {},
   "outputs": [
    {
     "name": "stdout",
     "output_type": "stream",
     "text": [
      "Top 20 records sorted by profit in descending order\n",
      " year  rank                 company   revenue   profit\n",
      " 2005     2             Exxon Mobil  270772.0  25330.0\n",
      " 1999     2              Ford Motor  144416.0  22071.0\n",
      " 2004     2             Exxon Mobil  213199.0  21510.0\n",
      " 2004     8               Citigroup   94713.0  17853.0\n",
      " 2001     1             Exxon Mobil  210392.0  17720.0\n",
      " 2005     8               Citigroup  108276.0  17046.0\n",
      " 2005     5        General Electric  152363.0  16593.0\n",
      " 2002     2             Exxon Mobil  191581.0  15320.0\n",
      " 2003     6               Citigroup  100789.0  15276.0\n",
      " 2004     5        General Electric  134187.0  15002.0\n",
      " 2005    18   Bank of America Corp.   63324.0  14143.0\n",
      " 2002     7               Citigroup  112022.0  14126.0\n",
      " 2003     5        General Electric  131698.0  14118.0\n",
      " 2002     6        General Electric  125913.0  13684.0\n",
      " 2001     6               Citigroup  111826.0  13519.0\n",
      " 2005     6           ChevronTexaco  147967.0  13328.0\n",
      " 2001     5        General Electric  129853.0  12735.0\n",
      " 2001    10  Verizon Communications   64707.0  11797.0\n",
      " 2003     3             Exxon Mobil  182466.0  11460.0\n",
      " 2005    24                  Pfizer   52921.0  11361.0\n"
     ]
    }
   ],
   "source": [
    "# Sort by profit and print top 20 rows\n",
    "print(\"Top 20 records sorted by profit in descending order\")\n",
    "print(df.sort_values(by='profit', ascending=False).head(20).to_string(index=False))"
   ]
  },
  {
   "cell_type": "code",
   "execution_count": 13,
   "metadata": {},
   "outputs": [
    {
     "name": "stdout",
     "output_type": "stream",
     "text": [
      "JSON file created!\n"
     ]
    }
   ],
   "source": [
    "#Writing the dataframe to a file in json format\n",
    "df.to_json(r'data2.json', orient='table', index=False)\n",
    "print(\"JSON file created!\")"
   ]
  }
 ],
 "metadata": {
  "kernelspec": {
   "display_name": "Python 3",
   "language": "python",
   "name": "python3"
  },
  "language_info": {
   "codemirror_mode": {
    "name": "ipython",
    "version": 3
   },
   "file_extension": ".py",
   "mimetype": "text/x-python",
   "name": "python",
   "nbconvert_exporter": "python",
   "pygments_lexer": "ipython3",
   "version": "3.6.4"
  }
 },
 "nbformat": 4,
 "nbformat_minor": 2
}
